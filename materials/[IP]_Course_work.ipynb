{
  "nbformat": 4,
  "nbformat_minor": 0,
  "metadata": {
    "colab": {
      "provenance": []
    },
    "kernelspec": {
      "name": "python3",
      "display_name": "Python 3"
    },
    "language_info": {
      "name": "python"
    }
  },
  "cells": [
    {
      "cell_type": "markdown",
      "source": [
        "# **Project Submission Requirements:**\n",
        "1. Report describing the progress of the robot development in .pdf format. Report structure:\n",
        "- Project name\n",
        "- Project Objective\n",
        "- Project Objectives\n",
        "- Justification of the parameters of the robot structure\n",
        "- Progress of prototype manufacturing\n",
        "- Main conclusions\n",
        "2. Presentation of the project with the finished prototype. The structure can be repeated from the report."
      ],
      "metadata": {
        "id": "T3pK7hrpR3x2"
      }
    },
    {
      "cell_type": "markdown",
      "source": [
        "As part of the project, you need to determine on your own in a team which robot parameters you can vary, make several xml models of the robot with different parameters, perform numerical experiments, then identify the best model and make a prototype.\n",
        "\n",
        "In the report you need to describe in detail the course of your reasoning and how you conducted the experiment."
      ],
      "metadata": {
        "id": "9WowVXKRS4Wk"
      }
    },
    {
      "cell_type": "markdown",
      "source": [
        "# **Alternative: Final exam**\n",
        "Final exam duration: 1.5 hour\n",
        "\n",
        "During this time you have to do 3 tasks:\n",
        "1. Make a model of the robot in .xml\n",
        "2. Identify critical robot configurations (where the robot experiences the maximum load on the actuators in a static state) and calculate the torques of the robot.\n",
        "3. Make slicing for a 3D printer of 3 different models\n",
        "\n",
        "The robot model will be similar to the project."
      ],
      "metadata": {
        "id": "RZbWIIAdTXrs"
      }
    }
  ]
}