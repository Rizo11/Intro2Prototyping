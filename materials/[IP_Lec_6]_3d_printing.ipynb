{
  "nbformat": 4,
  "nbformat_minor": 0,
  "metadata": {
    "colab": {
      "provenance": []
    },
    "kernelspec": {
      "name": "python3",
      "display_name": "Python 3"
    },
    "language_info": {
      "name": "python"
    }
  },
  "cells": [
    {
      "cell_type": "markdown",
      "source": [
        "# **3d printing**"
      ],
      "metadata": {
        "id": "sYVTlXvic5VR"
      }
    },
    {
      "cell_type": "markdown",
      "source": [
        "3D printing or additive manufacturing is the construction of a three-dimensional object from a CAD model or a digital 3D model. It can be done in a variety of processes in which material is deposited, joined or solidified under computer control, with the material being added together (such as plastics, liquids or powder grains being fused), typically layer by layer."
      ],
      "metadata": {
        "id": "rAbpSnGSHfLc"
      }
    },
    {
      "cell_type": "markdown",
      "source": [
        "# **FDM printers**"
      ],
      "metadata": {
        "id": "MNTTnnQDH8RL"
      }
    },
    {
      "cell_type": "markdown",
      "source": [
        "**FDM** stands for **Fused Deposition Modeling**. FDM technology is a popular type of 3D printing that builds durable and strong accurate parts. FDM is a 3D printing process that uses a continuous filament of a thermoplastic material. Filament is fed from a large spool through a moving, heated printer extruder head, and is deposited on the growing work. The print head is moved under computer control to define the printed shape. Usually the head moves in two dimensions to deposit one horizontal plane, or layer, at a time; the work or the print head is then moved vertically by a small amount to begin a new layer.\n",
        "\n",
        "![](https://upload.wikimedia.org/wikipedia/commons/thumb/c/c8/Schematic_representation_of_Fused_Filament_Fabrication_01.png/330px-Schematic_representation_of_Fused_Filament_Fabrication_01.png)"
      ],
      "metadata": {
        "id": "IyoIiPF8IBUT"
      }
    },
    {
      "cell_type": "markdown",
      "source": [
        "## **FDM construction**"
      ],
      "metadata": {
        "id": "SaVLwcFqJLO0"
      }
    },
    {
      "cell_type": "markdown",
      "source": [
        "![](https://filament2print.com/img/cms/blog/135/img2.png)"
      ],
      "metadata": {
        "id": "rD5quSUlJQDr"
      }
    },
    {
      "cell_type": "markdown",
      "source": [
        "## **SLA**\n",
        "\n",
        "Stereolithography, or SLA is a form of 3D printing technology used for creating models, prototypes, patterns, and production parts in a layer by layer fashion using photochemical processes by which light causes chemical monomers and oligomers to cross-link together to form polymers.\n",
        "\n",
        "![](https://upload.wikimedia.org/wikipedia/commons/thumb/d/d6/Schematic_representation_of_Stereolithography.png/330px-Schematic_representation_of_Stereolithography.png)"
      ],
      "metadata": {
        "id": "Ov0BNSMtIep6"
      }
    },
    {
      "cell_type": "markdown",
      "source": [
        "# **Cura Ultimaker**"
      ],
      "metadata": {
        "id": "mrGp2iOlG1hc"
      }
    },
    {
      "cell_type": "markdown",
      "source": [
        "To generate a g-code for 3d printer install [Cura Ultimaker](https://drive.google.com/drive/folders/1bR3WVjTxHJkVvqvIncLjsMeyVLUpGABC?usp=sharing)\n",
        "\n",
        "The tutorial how to set up slicer avalible [here](https://medium.com/3dprintjunction/a-guide-to-setting-up-the-premier-3d-printing-software-53ef6cf6dedb) and how to slice avalible [here](https://www.tomshardware.com/how-to/use-ultimaker-cura-to-prepare-designs-for-3d-printing)"
      ],
      "metadata": {
        "id": "ifbVjtQQGw0c"
      }
    }
  ]
}