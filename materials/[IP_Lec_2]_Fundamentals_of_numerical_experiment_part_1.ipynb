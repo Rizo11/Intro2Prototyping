{
  "nbformat": 4,
  "nbformat_minor": 0,
  "metadata": {
    "colab": {
      "provenance": []
    },
    "kernelspec": {
      "name": "python3",
      "display_name": "Python 3"
    },
    "language_info": {
      "name": "python"
    }
  },
  "cells": [
    {
      "cell_type": "markdown",
      "source": [
        "# **How to visualize your xml-model via code?**"
      ],
      "metadata": {
        "id": "4PiSC4WlZj0l"
      }
    },
    {
      "cell_type": "markdown",
      "source": [
        "## **Example model: 3-joint planar manipulator**\n",
        "```xml\n",
        "<mujoco model=\"3-joint-planar-manipulator\">\n",
        "\n",
        "    <default>\n",
        "        <joint axis=\"0 1 0\"/>\n",
        "        <geom type=\"capsule\" size=\".01\" rgba=\".9 .7 .1 1\"/>\n",
        "        <default class=\"visual_cylinder\">\n",
        "            <geom type=\"cylinder\" fromto=\"0 .015 0 0 -.015 0\" size=\".02\" rgba=\".3 .9 .3 .4\"/>\n",
        "        </default>\n",
        "    </default>\n",
        "\n",
        "    <worldbody>\n",
        "        <light pos=\"0 0 1\"/>\n",
        "        <body pos=\"0 0 0\">\n",
        "            <joint/>\n",
        "            <geom name=\"g1\" class=\"visual_cylinder\"/>\n",
        "            <geom fromto=\"0 0 0 .1 0 0\"/>\n",
        "            <body pos=\".1 0 0\">\n",
        "                <joint/>\n",
        "                <geom name=\"g2\" class=\"visual_cylinder\"/>\n",
        "                <geom fromto=\"0 0 0 .1 0 0\"/>\n",
        "                <body pos=\".1 0 0\">\n",
        "                    <joint/>\n",
        "                    <geom name=\"g3\" class=\"visual_cylinder\"/>\n",
        "                    <geom fromto=\"0 0 0 .1 0 0\"/>\n",
        "                </body>\n",
        "            </body>\n",
        "        </body>\n",
        "    </worldbody>\n",
        "\n",
        "</mujoco>\n",
        "```"
      ],
      "metadata": {
        "id": "WAsxjciUZsrA"
      }
    },
    {
      "cell_type": "markdown",
      "source": [
        "## **Python example**\n",
        "\n",
        "```python\n",
        "import time\n",
        "import mujoco\n",
        "import mujoco.viewer\n",
        "\n",
        "model = mujoco.MjModel.from_xml_path('example.xml')\n",
        "data = mujoco.MjData(model)\n",
        "\n",
        "with mujoco.viewer.launch_passive(model, data) as viewer:\n",
        "    # Close the viewer automatically after 30 wall-seconds.\n",
        "    start = time.time()\n",
        "    while viewer.is_running() and time.time() - start < 30:\n",
        "        step_start = time.time()\n",
        "\n",
        "        # mj_step can be replaced with code that also evaluates\n",
        "        # a policy and applies a control signal before stepping the physics.\n",
        "        mujoco.mj_step(model, data)\n",
        "\n",
        "        # Pick up changes to the physics state, apply perturbations, update options from GUI.\n",
        "        viewer.sync()\n",
        "\n",
        "        # Rudimentary time keeping, will drift relative to wall clock.\n",
        "        time_until_next_step = model.opt.timestep - (time.time() - step_start)\n",
        "        if time_until_next_step > 0:\n",
        "            time.sleep(time_until_next_step)\n",
        "```"
      ],
      "metadata": {
        "id": "Ib-xyiAbZ6m7"
      }
    },
    {
      "cell_type": "markdown",
      "source": [
        "# **How dynamical simulators work?**"
      ],
      "metadata": {
        "id": "buByb5c5UEBi"
      }
    },
    {
      "cell_type": "markdown",
      "source": [
        "MuJoCo computes both forward and inverse dynamics in continuous time. The general equations of motion in continuous time are:\n",
        "$$\n",
        "M(q)\\ddot{x} + c(q,\\dot{x}) = \\tau + J_c(q)^Tf(q, \\dot{x}, \\tau)\n",
        "$$\n",
        "\n",
        "Forward dynamics:\n",
        "$$\n",
        "\\ddot{x} = M^{-1}(\\tau + J_c^Tf - c)\n",
        "$$\n",
        "\n",
        "Inverse dynamics:\n",
        "$$\n",
        "\\tau = M\\ddot{x} + c - J_c^Tf\n",
        "$$\n",
        "\n",
        "For more information, see here: https://mujoco.readthedocs.io/en/stable/computation/index.html"
      ],
      "metadata": {
        "id": "T-kblZ3bd599"
      }
    },
    {
      "cell_type": "markdown",
      "source": [
        "# **Mujoco `model` and `data`**\n"
      ],
      "metadata": {
        "id": "iQQwtglGhzV6"
      }
    },
    {
      "cell_type": "markdown",
      "source": [
        "`mjModel` - https://mujoco.readthedocs.io/en/stable/APIreference/APItypes.html#mjmodel\n",
        "\n",
        "\n",
        "`mjData` - https://mujoco.readthedocs.io/en/stable/APIreference/APItypes.html#mjdata"
      ],
      "metadata": {
        "id": "eVsyKZlDhtpl"
      }
    },
    {
      "cell_type": "markdown",
      "source": [
        "# **Task**\n",
        "> Write a script that tries all possible configurations of an arbitrary robot, calculates the inverse dynamics excluding collisions, and saves all the results of the experiment - motor angles and torques to a .csv file.\n",
        "\n",
        "> Make a [violinplot](https://matplotlib.org/stable/api/_as_gen/matplotlib.pyplot.violinplot.html) showing the distribution of torques in the different joints. x-axis - joint name, y-axis - torque."
      ],
      "metadata": {
        "id": "L9RcDbO3mn3X"
      }
    }
  ]
}