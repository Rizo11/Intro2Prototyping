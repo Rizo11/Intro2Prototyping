{
  "nbformat": 4,
  "nbformat_minor": 0,
  "metadata": {
    "colab": {
      "provenance": []
    },
    "kernelspec": {
      "name": "python3",
      "display_name": "Python 3"
    },
    "language_info": {
      "name": "python"
    }
  },
  "cells": [
    {
      "cell_type": "markdown",
      "source": [
        "# **Basics about motors**"
      ],
      "metadata": {
        "id": "FMkAKjX3LCdf"
      }
    },
    {
      "cell_type": "markdown",
      "source": [
        "During the course we will work with BLDC motor [MF4005v2(RMD-L-4005)BLDC](https://aliexpress.ru/item/1005003261130247.html?spm=a2g2w.orderdetail.0.0.27814aa6f24V4l&sku_id=12000031590377027)\n",
        "\n",
        "**BLDC** is a brushless DC electric motor. This is a synchronous motor using a direct current (DC) electric power supply. It uses an electronic controller to switch DC currents to the motor windings producing magnetic fields that effectively rotate in space and which the permanent magnet rotor follows.\n",
        "\n",
        "![image.gif](https://electrotransport.ru/images/4/11oin7k.gif)"
      ],
      "metadata": {
        "id": "RrsZhttQLT34"
      }
    },
    {
      "cell_type": "markdown",
      "source": [
        "## **How to connect BLDC motor to computer?**\n",
        "\n",
        "**CAN** (controller area network) is a vehicle bus standard designed to enable efficient communication primarily between electronic control units. CAN is a shield protocol. This means that new devices can be connected in parallel.\n",
        "\n",
        "![image.png](https://drive.google.com/uc?id=1FNOA7SbDC9ZO9rRQd9e4czQEdDF0jOEh)\n",
        "\n",
        "This is how to connect one motor:\n",
        "\n",
        "![image.png](https://drive.google.com/uc?id=1rp2uqT1l7STy0mwx-WYx8DumCTztYQ8u)"
      ],
      "metadata": {
        "id": "ltk-2Dixe2D3"
      }
    },
    {
      "cell_type": "markdown",
      "source": [
        "# **How to controll motor by current to acheave needed position?**\n"
      ],
      "metadata": {
        "id": "Ra8kBVROfmCN"
      }
    },
    {
      "cell_type": "markdown",
      "source": [
        "We've already prepared the top-level control for the motor. To use the implemented library download the repository: https://github.com/valeriaskvo/gyems_motor_control"
      ],
      "metadata": {
        "id": "HjR4ynQYgBNU"
      }
    },
    {
      "cell_type": "code",
      "source": [
        "from time import perf_counter\n",
        "from can import CAN_Bus\n",
        "from motors.gyems import GyemsDRC\n",
        "\n",
        "def pd_control(motor, control_param):\n",
        "    q, dq = motor.state['angle'], motor.state['speed']\n",
        "    q_des, dq_des = control_param['q_des'], control_param['dq_des']\n",
        "    Kp, Kd = control_param['Kp'], control_param['Kd']\n",
        "\n",
        "    u = Kp*(q_des - q) + Kd*(dq_des - dq)\n",
        "    return u\n",
        "\n",
        "control_param = {'Kp': 2,\n",
        "                 'Kd': 5,\n",
        "                 'q_des': 360,\n",
        "                 'dq_des': 0}\n",
        "\n",
        "motor_param = { 'interface': 'can0',\n",
        "                'id_motor': 0x141,\n",
        "                'current_limit': 200}\n",
        "\n",
        "bus = CAN_Bus(interface=motor_param['interface'])\n",
        "\n",
        "print('CAN BUS connected successfully')\n",
        "\n",
        "motor = GyemsDRC(can_bus=bus, device_id=motor_param['id_motor'])\n",
        "motor.set_degrees()\n",
        "motor.current_limit = motor_param['current_limit']\n",
        "motor.enable()\n",
        "\n",
        "t0 = perf_counter()\n",
        "t = []\n",
        "t_max = 3\n",
        "\n",
        "print('Motor control starts')\n",
        "try:\n",
        "    while True:\n",
        "        u = pd_control(motor, control_param)\n",
        "        motor.set_current(u)\n",
        "\n",
        "except KeyboardInterrupt:\n",
        "    motor.set_current(0)\n",
        "    print('Stop process')\n",
        "\n",
        "finally:\n",
        "    motor.disable()\n"
      ],
      "metadata": {
        "id": "XmGdzS9ggXQN"
      },
      "execution_count": null,
      "outputs": []
    },
    {
      "cell_type": "markdown",
      "source": [
        "# **How to connect multiple motors?**"
      ],
      "metadata": {
        "id": "q7M1Nydrf1Yd"
      }
    },
    {
      "cell_type": "markdown",
      "source": [
        "Use a breadboard:\n",
        "\n",
        "![](https://81.img.avito.st/image/1/lNPJh7aBODq_Iso87a2D5zokPDxrJDg8DEc8PL8iyjx_IDQ-fyY4fg)\n",
        "\n",
        "Use the terminal block:\n",
        "\n",
        "![image.png](https://sun9-21.userapi.com/impg/CwT9pjahIJ9NjOftvJLFqf-5kVKQukhe_gZirQ/unFBjbgRvvY.jpg?size=320x320&quality=95&sign=a8890591a8185218d297e2a22186351e&c_uniq_tag=HYzMGB74jk2u2Xm4rd5gMVqJ_6YkkAYnL2UThWhZc6M&type=album)\n",
        "\n",
        "Make your own PCB!\n",
        "\n",
        "![pcb](https://upload.wikimedia.org/wikipedia/commons/thumb/6/67/PCB_design_and_realisation_smt_and_through_hole.png/1200px-PCB_design_and_realisation_smt_and_through_hole.png)"
      ],
      "metadata": {
        "id": "k5r6AjVFgxdm"
      }
    },
    {
      "cell_type": "markdown",
      "source": [
        "# **Software for PCB design**"
      ],
      "metadata": {
        "id": "q3o9yRdDhhGP"
      }
    },
    {
      "cell_type": "markdown",
      "source": [
        "Link for the online PCB editor: https://easyeda.com/\n",
        "\n",
        "Link on tutorials: [youtube](https://www.youtube.com/watch?v=9FS1m_K8aWI)"
      ],
      "metadata": {
        "id": "vfehMod8hlrl"
      }
    },
    {
      "cell_type": "markdown",
      "source": [
        "# **How to develop PCB board?**"
      ],
      "metadata": {
        "id": "0wTp9SGvh5im"
      }
    },
    {
      "cell_type": "markdown",
      "source": [
        "### Introduction to PCBs\n",
        "\n",
        "**Printed Circuit Boards** (PCBs) are the backbone of almost all electronic devices. They are essential for providing physical support and wiring for electronic components.\n",
        "\n",
        "#### Key Components:\n",
        "\n",
        "1. **Substrate**: Typically made of fiberglass, providing mechanical strength.\n",
        "2. **Copper Layer**: Conductive paths for electrical connections.\n",
        "3. **Solder Mask**: Insulating layer to prevent short circuits.\n",
        "4. **Silkscreen**: Used for labeling components.\n",
        "\n",
        "#### Types of PCBs:\n",
        "\n",
        "1. **Single-sided**: One copper layer.\n",
        "2. **Double-sided**: Copper layers on both sides.\n",
        "3. **Multi-layer**: Multiple layers of copper, increasing complexity and functionality.\n",
        "\n",
        "#### PCB Design Process:\n",
        "\n",
        "1. **Schematic** Design: Creating a blueprint of the circuit.\n",
        "2. **Layout Design**: Placing components and routing connections.\n",
        "3. **Prototyping**: Creating a physical board to test the design.\n",
        "4. **Manufacturing**: Mass production of the final design.\n",
        "\n",
        "### Introduction to EasyEDA\n",
        "\n",
        "**EasyEDA** is a powerful, free, and user-friendly tool for designing PCBs. It is an online-based software that provides comprehensive features for electronic circuit design and PCB layout.\n",
        "\n",
        "#### Key Features:\n",
        "\n",
        "1. **Schematic Capture**: Allows users to draw schematics easily with a vast library of components.\n",
        "2. **PCB Layout**: Tools for arranging components and routing traces efficiently.\n",
        "3. **Component Libraries**: Extensive libraries with a wide range of electronic components.\n",
        "4. **Simulation**: Circuit simulation capabilities to test designs before physical prototyping.\n",
        "5. **Collaboration**: Online platform enabling teamwork and sharing projects.\n",
        "\n",
        "#### Steps to Design a PCB with EasyEDA:\n",
        "\n",
        "1. **Create an Account**: Register on the EasyEDA website.\n",
        "2. **Start a New Project**: Open a new project and begin with schematic capture.\n",
        "3. **Add Components**: Select components from the library and place them on the schematic.\n",
        "4. **Draw Connections**: Connect components using wires to complete the circuit.\n",
        "5. **Convert to PCB**: Once the schematic is complete, convert it to PCB layout.\n",
        "6. **Arrange Components**: Place components on the board layout as per design requirements.\n",
        "7. **Route Traces**: Connect components with copper traces, ensuring no overlaps.\n",
        "8. **DRC Check**: Perform Design Rule Check to ensure there are no errors.\n",
        "9. **Generate Gerber Files**: Export the design files for manufacturing.\n",
        "\n",
        "#### Benefits of EasyEDA:\n",
        "\n",
        "1. **Accessibility**: Being web-based, it can be accessed from anywhere.\n",
        "2. **Ease of Use**: Intuitive interface suitable for beginners and professionals.\n",
        "3. **Cost-Effective**: Free to use with options for affordable PCB manufacturing.\n",
        "4. **Community and Support**: Large user community and extensive documentation for assistance.\n",
        "\n",
        "\n",
        "### Your task\n",
        "\n",
        "![task](https://320volt.com/wp-content/uploads/2008/12/boost-12v-24v-schematic-12v-24v-10a-step-up-converter.gif)\n",
        "\n",
        "\n"
      ],
      "metadata": {
        "id": "6kfqqyhJiW59"
      }
    },
    {
      "cell_type": "markdown",
      "source": [
        "## **What is the CNC (milling) machine?**\n",
        "Milling is the process of machining using rotary cutters to remove material by advancing a cutter into a workpiece.\n",
        "\n",
        "![image](https://www.arianmetal.ir/images/Text%20Images/Face_milling_operations.png)\n",
        "\n",
        "To command the CNC machine (as 3D printers) we use G-codes. The codes defines the movements we want the machine to do."
      ],
      "metadata": {
        "id": "nGbhLLb2iAyI"
      }
    },
    {
      "cell_type": "markdown",
      "source": [
        "# **Software for g-code generation for PCB production**\n",
        "**FlatCAM** is a program for preparing CNC jobs for making PCBs on a CNC router. Among other things, it can take a Gerber file generated by your favorite PCB CAD program, and create G-Code for Isolation routing and holes milling.\n",
        "\n",
        "Link for FlatCam installation instruction: http://flatcam.org/manual/installation.html\n",
        "\n",
        "Installers: https://bitbucket.org/jpcgt/flatcam/downloads/\n",
        "\n",
        "\n",
        "## Benefits of FlatCam:\n",
        "- Available on all popular platforms\n",
        "- Free\n",
        "_____\n",
        "\n",
        "## Steps to generate g-codes with **FlatCAM**:\n",
        "\n",
        "1. Import Gerber and Excellon (e.g. GBL and DRL) files, generated by EasyEDA (One can do it by dragging the files to the FlatCam window).\n",
        "2. Generate g-code for isolation geometry\n",
        "  - Select an **Gerber file** listed in the project tab. The software will direct you to \"Selected\" tab\n",
        "  - Choose tool diameter.\n",
        "    In our case the milling cutter tip diameter ~0.2 mm.\n",
        "  - Define number of passes and overlap.\n",
        "    The value defines how many times the tool will outline your geometry on the PCB. The noraml values for simple PCB: 5 times with 10% overlap.\n",
        "\n",
        "    *Simple analogy: imagine that you are trying to cut your tracks on the PCB with a needle or knife. How many times and with what overlap you will follow the geometry to ensure that all tracks are perfectly isolated from each other?*\n",
        "\n",
        "    If you will leave *Combine* mark empty, the **FlatCAM** will generate individual geometries for each pass. The feature is usefull is you are not 100% sure about the copper layer thikness. However, you will have to generate separate g-code files for each pass and the cutting process will take longer.\n",
        "  \n",
        "  - Click on **Generate Isolation Geometry** button and define the following parameters:\n",
        "\n",
        "    a. **Cut Z** -- Depth for a cutting instrument. This value will determine how deep the grooves will be between the tracks on the PCB (thickness of copper layer ~35µm, so 0.09 mm depth is enought)\n",
        "\n",
        "    b. **Travel Z** -- Height at with the milling tool will travel when it should not cut PCB (2.0 mm)\n",
        "  - Click **Generate CNCJob object**, choose file name, check tool preferences and save CNC code.\n",
        "\n",
        "      ***If you made separated geometries, you will have to repeat last two steps for each geometry file.*** They are listed in **Project** tab\n",
        "\n",
        "3. Generate g-code for holes milling\n",
        "  - Choose an Excellon file listed in the project tab. The software will direct you to \"Selected\" tab\n",
        "  - Define milling parameters:\n",
        "\n",
        "    a. **Cut Z** -- Depth for a milling instrument (drill). This value will determine how deep the drilled holed will be (thickness of PCB ~1.8 mm, so 2.2 depth is enought)\n",
        "\n",
        "    b. **Travel Z** -- Height at with the drilling tool will travel when it should not cut PCB (2.0 mm)\n",
        "   - Click **Create Drills Gcode**, choose file name, check tool preferences and save CNC code.\n",
        "\n",
        "## Link on tutorials:\n",
        "\n",
        "(Rusian) https://www.youtube.com/watch?v=6froOWQ75Yw\n",
        "\n",
        "(Eng) Advanced tutorial: https://youtu.be/--Cb11heuHc?si=nSSpY-vf5fOeC-Ky"
      ],
      "metadata": {
        "id": "RozxVDLojETN"
      }
    },
    {
      "cell_type": "markdown",
      "source": [
        "# Candle\n",
        "\n",
        "Software for CNC cutting.\n",
        "\n",
        "## Attention:\n",
        "\n",
        "<font color='green'>When you use CNC machine you always has to be close to the device. You should wear protection glasses and NEVER touch the spindle (tip of the CNC) when it is moving.</font>\n",
        "\n",
        "## Prepare the textolite plate:\n",
        "\n",
        "Check dimentions of the designed PCB. Draw the rectangle on the textolite plate with sides AT LEAST 2 cm bigger than the measured dimentions.\n",
        "\n",
        "# The PCB milling steps:\n",
        "0. Check if the RED big press button is released.\n",
        "1. Connect CNC machine to the computer:\n",
        "\n",
        "  Go to Service -> Settings. Check Port used, if you trying to manipulate cnc and it doesn't move, choose another COM port.\n",
        "2. Fix the textolit plate on the table (use as many supports as possible). Fix milling cutter to the CNC tip (VERY TIGHT!).\n",
        "\n",
        "  Avoid the plate bending. If the fixation goes too tight, cut the textolit more accuratelly or try to place fixations in different places.\n",
        "\n",
        "3. Set XY zero position:\n",
        "\n",
        "    Using arrows from Jog section, move the CNC tip to the closest left corner (specify Jogging step 0.1 to precise positioning)\n",
        "    Press ZeroXY button to save the XY zero positin\n",
        "4. Set Z zero position\n",
        "\n",
        "    Using right arrows from Jog section, move the CNC tip to as close to the pcb plane as  (specify Jogging step 0.1 for precise positioning)\n",
        "    Press ZeroZ button to save the Z zero position\n",
        "5. Open your g-code (.nc) file. File->Open\n",
        "6. Make heightmap\n",
        "    Attach one Crocodile clip to the PCB, another to milling cutter, choose create in Heightmap section.\n",
        "    \n",
        "    Set Probe grid: 5x5 will be enought\n",
        "    \n",
        "    Press Auto button, so the Candle will define the borders of your PCB automatically.\n",
        "\n",
        "    Press Probe.\n",
        "\n",
        "    What you should see:\n",
        "\n",
        "      The cutting tool goes up. then slowly goes down up to your PCB and then goes to another point. The Candle visualize your heightmap grid points, connects them.\n",
        "\n",
        "    Attention\n",
        "\n",
        "      - If you see that the cutting tool go to undesirable position or the tool presses the PCB\n",
        "\n",
        "        1. Press big red button (to the right to the CNC)\n",
        "        2. Check if you setup ZeroXY, ZeroZ properly.\n",
        "        3. Check if the Crocodile clip are placed properly (and if they are connected to the controller board of the CNC)\n",
        "\n",
        "      - If Candle stops the process with an error:\n",
        "\n",
        "        Most probably your textolite plate is so wavy that the tool touches the plate during movement between the heightmap grid points. That means that you bended the board during fixation on the table.\n",
        "        So, Release the board, colve the fixation fitting problem and repeat  steps from the 2nd.\n",
        "7. Save heightmap using *Open* buttom in Heightmap section(YES).\n",
        "8. Choose your heightmap\n",
        "9. Press *Edit mode* buttom in Heightmap section\n",
        "10. Mark *Use heightmap* in Heightmap section\n",
        "\n",
        "Congratulations! Now you are ready to start milling!\n",
        "\n",
        "11. Remove the Crocodile clips from milling tool and the PCB\n",
        "12. Press *Send* buttom\n",
        "\n",
        " - If you see that the cutting tool go to undesirable position\n",
        "\n",
        "        1. Press big red button (to the right to the CNC)\n",
        "        2. Check if you setup ZeroXY, ZeroZ properly.\n",
        "        3. Repeat process from the 2nd step\n",
        "\n",
        "<div class=\"alert alert-block alert-info\">\n",
        "<b>Tip:</b>\n",
        "If you have non-combined passes for the isolation tragectory, repeat the steps 5, 8-12 using previous heightmap for each pass.\n",
        "</div>\n",
        "\n",
        "\n",
        "> REMEMBER: IF you think that the milling machine goes too deep, you can change Cut Z parameter in FlatCam for the next passes.\n",
        "\n",
        "\n",
        "\n",
        "### When you finished with all passes, start to make the holes on PCB.\n",
        "\n",
        "13. Deattach the milling tool, but it in the box with yellow cup.\n",
        "\n",
        "    Choose a drill with diameter around 1.1 mm (it has dark blue skirt)\n",
        "\n",
        "    Fix the drill to the CNC tip as tight as you can.\n",
        "\n",
        "14. Repeat 4 for the new tool.\n",
        "\n",
        "15. Open drill .nc file, follow the steps 8 - 12.\n",
        "\n",
        "16. When it is done, turn off the CNC machine, unskrew the PCB fixations, deattach the drill from CNC, put the drill to the box."
      ],
      "metadata": {
        "id": "EyK2wWuv_X_B"
      }
    },
    {
      "cell_type": "markdown",
      "source": [
        "# **Tasks**\n",
        "\n",
        "> *   Design a board that will power 2 motors and connect Canable board. The board should have 2 connectors for screwing in the motor wires, 1 connector for connecting the power supply and 1 connector for connecting to the Canable board. An example of the required connector is shown below.\n",
        "Upload to the github a photo of the 3D model of your board and a .dxf file of your board and screenshot of your electrical scheme\n",
        "![](https://ir.ozone.ru/s3/multimedia-r/wc1000/6849829575.jpg)\n",
        ">\n",
        "> *   Generate g-code to produce the board on the milling machine. Post the generated g-code to the github as well.\n",
        "> *   Team up in a group of 3 and produce a PCB board of one of you. Assemble the board and show it at the next class.\n"
      ],
      "metadata": {
        "id": "7AMs4AvhjbaG"
      }
    }
  ]
}